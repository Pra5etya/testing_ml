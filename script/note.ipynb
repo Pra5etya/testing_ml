{
 "cells": [
  {
   "cell_type": "code",
   "execution_count": null,
   "metadata": {},
   "outputs": [],
   "source": [
    "# Import library yang diperlukan\n",
    "import pandas as pd\n",
    "import numpy as np\n",
    "from sklearn.preprocessing import StandardScaler, OneHotEncoder\n",
    "from sklearn.compose import ColumnTransformer\n",
    "from sklearn.pipeline import Pipeline\n",
    "from sklearn.linear_model import LinearRegression\n",
    "from sklearn.metrics import mean_squared_error, r2_score"
   ]
  },
  {
   "cell_type": "markdown",
   "metadata": {},
   "source": [
    "# Winsorization"
   ]
  },
  {
   "cell_type": "code",
   "execution_count": null,
   "metadata": {},
   "outputs": [
    {
     "name": "stdout",
     "output_type": "stream",
     "text": [
      "DataFrame setelah Winsorization:\n",
      "   A   B\n",
      "0  2  12\n",
      "1  2  12\n",
      "2  3  14\n",
      "3  4  16\n",
      "4  5  18\n",
      "5  6  20\n",
      "6  7  22\n",
      "7  8  24\n",
      "8  9  26\n",
      "9  9  26\n"
     ]
    }
   ],
   "source": [
    "import pandas as pd\n",
    "from scipy.stats.mstats import winsorize\n",
    "\n",
    "# Contoh DataFrame\n",
    "data = {\n",
    "    'A': [1, 2, 3, 4, 5, 6, 7, 8, 9, 100, 250],  # Kolom dengan outlier\n",
    "    'B': [10, 12, 14, 16, 18, 20, 22, 24, 26, 300, 700]  # Kolom lain dengan outlier\n",
    "}\n",
    "df = pd.DataFrame(data)\n",
    "\n",
    "# Winsorization pada setiap kolom numerik\n",
    "for col in df.select_dtypes(include=['int64', 'float64']).columns:\n",
    "    df[col] = winsorize(df[col], limits=[0.1, 0.1])\n",
    "\n",
    "print(\"DataFrame setelah Winsorization:\")\n",
    "print(df)"
   ]
  },
  {
   "cell_type": "markdown",
   "metadata": {},
   "source": [
    "# Base Estimator"
   ]
  },
  {
   "cell_type": "markdown",
   "metadata": {},
   "source": [
    "## Transformer Kustom"
   ]
  },
  {
   "cell_type": "code",
   "execution_count": null,
   "metadata": {},
   "outputs": [],
   "source": [
    "from sklearn.base import BaseEstimator, TransformerMixin\n",
    "import numpy as np\n",
    "\n",
    "class AddFeatureTransformer(BaseEstimator, TransformerMixin):\n",
    "    def __init__(self, multiplier=1):\n",
    "        self.multiplier = multiplier\n",
    "\n",
    "    def fit(self, X, y=None):\n",
    "        return self  # Fit tidak melakukan apa-apa\n",
    "\n",
    "    def transform(self, X):\n",
    "        # Menambahkan kolom baru berdasarkan operasi dengan multiplier\n",
    "        new_feature = np.sum(X, axis=1).reshape(-1, 1) * self.multiplier\n",
    "        return np.hstack((X, new_feature))\n"
   ]
  },
  {
   "cell_type": "code",
   "execution_count": null,
   "metadata": {},
   "outputs": [],
   "source": [
    "import numpy as np\n",
    "from sklearn.preprocessing import StandardScaler\n",
    "from sklearn.pipeline import Pipeline\n",
    "\n",
    "X = np.array([[1, 2], [3, 4], [5, 6]])\n",
    "\n",
    "# Pipeline dengan transformer kustom\n",
    "pipeline = Pipeline([\n",
    "    ('add_feature', AddFeatureTransformer(multiplier=2)),\n",
    "    ('scaler', StandardScaler())\n",
    "])\n",
    "\n",
    "X_transformed = pipeline.fit_transform(X)\n",
    "print(X_transformed)\n"
   ]
  },
  {
   "cell_type": "markdown",
   "metadata": {},
   "source": [
    "## Classifier Kustom"
   ]
  },
  {
   "cell_type": "code",
   "execution_count": null,
   "metadata": {},
   "outputs": [],
   "source": [
    "from sklearn.base import BaseEstimator, ClassifierMixin\n",
    "import numpy as np\n",
    "\n",
    "class DummyClassifier(BaseEstimator, ClassifierMixin):\n",
    "    def __init__(self, constant_class=0):\n",
    "        self.constant_class = constant_class\n",
    "\n",
    "    def fit(self, X, y):\n",
    "        self.classes_ = np.unique(y)  # Simpan kelas unik\n",
    "        return self\n",
    "\n",
    "    def predict(self, X):\n",
    "        return np.full((X.shape[0],), self.constant_class)\n",
    "\n",
    "    def score(self, X, y):\n",
    "        # Menggunakan akurasi sebagai metrik\n",
    "        return np.mean(self.predict(X) == y)\n"
   ]
  },
  {
   "cell_type": "code",
   "execution_count": null,
   "metadata": {},
   "outputs": [],
   "source": [
    "from sklearn.model_selection import train_test_split\n",
    "from sklearn.metrics import accuracy_score\n",
    "\n",
    "# Contoh dataset\n",
    "X = np.random.rand(100, 2)\n",
    "y = np.random.choice([0, 1], size=100)\n",
    "\n",
    "# Split data\n",
    "X_train, X_test, y_train, y_test = train_test_split(X, y, test_size=0.3, random_state=42)\n",
    "\n",
    "# Dummy classifier\n",
    "dummy_clf = DummyClassifier(constant_class=1)\n",
    "dummy_clf.fit(X_train, y_train)\n",
    "y_pred = dummy_clf.predict(X_test)\n",
    "\n",
    "# Evaluasi\n",
    "print(\"Accuracy:\", accuracy_score(y_test, y_pred))\n"
   ]
  },
  {
   "cell_type": "markdown",
   "metadata": {},
   "source": [
    "# Other"
   ]
  },
  {
   "cell_type": "code",
   "execution_count": null,
   "metadata": {},
   "outputs": [],
   "source": [
    "# null column\n",
    "null_numeric = []\n",
    "null_obj = []\n",
    "\n",
    "# \n",
    "null_columns = train_df.columns[train_df.isnull().sum() > 0]\n",
    "\n",
    "for col in null_columns:\n",
    "    if train_df[col].dtype in ['int', 'float']:\n",
    "        null_numeric.append(col)\n",
    "        \n",
    "    elif train_df[col].dtype == 'object':\n",
    "        null_obj.append(col)\n",
    "\n",
    "# \n",
    "print(\"Null Numeric:\", null_numeric)\n",
    "print(\"Null String:\", null_obj)"
   ]
  },
  {
   "cell_type": "code",
   "execution_count": null,
   "metadata": {},
   "outputs": [],
   "source": [
    "# \n",
    "num_cols = []\n",
    "obj_cols = []\n",
    "\n",
    "for col in train_df:\n",
    "    if train_df[col].dtype in ['int', 'float']:\n",
    "        num_cols.append(col)\n",
    "        \n",
    "    elif train_df[col].dtype == 'object':\n",
    "        obj_cols.append(col)\n",
    "\n",
    "# \n",
    "print(\"Numeric Cols:\", num_cols)\n",
    "print(\"String Cols:\", obj_cols)"
   ]
  },
  {
   "cell_type": "code",
   "execution_count": null,
   "metadata": {},
   "outputs": [],
   "source": [
    "# Original columns\n",
    "train_original = train_df.columns\n",
    "\n",
    "# Numeric Pipeline\n",
    "numerical_pipeline = Pipeline(steps = [\n",
    "    (\"imputer\", SimpleImputer(strategy = \"mean\")), \n",
    "    (\"outlier_removal\", OutlierRemover(factor = 1.5))\n",
    "])\n",
    "\n",
    "# String Pipeline\n",
    "categorical_pipeline = Pipeline(steps = [\n",
    "    (\"imputer\", SimpleImputer(strategy = \"most_frequent\"))\n",
    "])\n",
    "\n",
    "# ColumnTransformer untuk menggabungkan proses imputasi\n",
    "prep_stage_1 = ColumnTransformer(\n",
    "    transformers = [\n",
    "        (\"num\", numerical_pipeline, num_cols), \n",
    "        (\"cat\", categorical_pipeline, obj_cols), \n",
    "    ], \n",
    "    remainder = \"drop\", \n",
    "    verbose_feature_names_out = True)"
   ]
  },
  {
   "cell_type": "code",
   "execution_count": null,
   "metadata": {},
   "outputs": [],
   "source": [
    "# Transform data menggunakan fit_transform pada tahap 1\n",
    "train_df = prep_stage_1.fit_transform(train_df)\n",
    "\n",
    "# Columns After: ubah kembali ke DataFrame dengan kolom dari prep_stage_1\n",
    "train_df = pd.DataFrame(train_df, columns = prep_stage_1.get_feature_names_out())\n",
    "\n",
    "# Hilangkan prefix (misalnya, \"num__\", \"cat__\", \"out__\")\n",
    "clean_columns = [col.split(\"__\", 1)[-1] for col in train_df.columns]\n",
    "train_df.columns = clean_columns"
   ]
  },
  {
   "cell_type": "code",
   "execution_count": null,
   "metadata": {},
   "outputs": [],
   "source": [
    "# Menampilkan total null pada setiap kolom\n",
    "null_columns = train_df.isnull().sum()[train_df.isnull().sum() > 0]\n",
    "print(null_columns)\n",
    "train_df.info()"
   ]
  },
  {
   "cell_type": "code",
   "execution_count": null,
   "metadata": {},
   "outputs": [],
   "source": [
    "train_df = convert_object_columns_to_numeric(train_df)\n",
    "train_df.info()"
   ]
  },
  {
   "cell_type": "code",
   "execution_count": null,
   "metadata": {},
   "outputs": [],
   "source": [
    "# rows before filtering\n",
    "print(f'Total Rows: {len(train_df)}')\n",
    "\n",
    "# Filter kolom numerik\n",
    "num_cols = train_df.select_dtypes(include = [\"number\"]).columns\n",
    "\n",
    "# Pipeline untuk outlier remover hanya pada kolom numerik\n",
    "outlier_pipeline = Pipeline(steps=[\n",
    "    (\"outlier_removal\", OutlierRemover(factor=1.5))\n",
    "])\n",
    "\n",
    "# Transformasi data hanya pada kolom numerik\n",
    "train_df[num_cols] = outlier_pipeline.fit_transform(train_df[num_cols])\n",
    "\n",
    "# Output jumlah baris setelah transformasi\n",
    "print(f'Total Rows: {len(train_df)}')"
   ]
  },
  {
   "cell_type": "code",
   "execution_count": null,
   "metadata": {},
   "outputs": [],
   "source": [
    "# Daftar kolom untuk label encoding (kolom ordinal)\n",
    "encoding_set = {'OverallQual', 'OverallCond', 'ExterQual', 'ExterCond', \n",
    "                'BsmtQual', 'BsmtCond', 'HeatingQC', 'KitchenQual', \n",
    "                'FireplaceQu', 'GarageQual', 'GarageCond'}\n",
    "\n",
    "# Inisialisasi list untuk menyimpan kolom yang telah dikelompokkan\n",
    "train_ordinal_cols = []\n",
    "train_one_hot_cols = []\n",
    "train_numeric_cols = []\n",
    "\n",
    "# Mengelompokkan kolom berdasarkan tipe data\n",
    "for col in train_df.columns:\n",
    "    if train_df[col].dtype in ['int', 'float']:\n",
    "        train_numeric_cols.append(col)\n",
    "\n",
    "    elif train_df[col].dtype == 'object':\n",
    "        if col in encoding_set:\n",
    "            train_ordinal_cols.append(col)\n",
    "\n",
    "        else:\n",
    "            train_one_hot_cols.append(col)\n",
    "\n",
    "# Menampilkan hasil\n",
    "print(\"Ordinal Encoding Columns:\", train_ordinal_cols)\n",
    "print(\"One-Hot Encoding Columns:\", train_one_hot_cols)\n",
    "print(\"Numeric Columns:\", train_numeric_cols)"
   ]
  },
  {
   "cell_type": "code",
   "execution_count": null,
   "metadata": {},
   "outputs": [],
   "source": []
  }
 ],
 "metadata": {
  "kernelspec": {
   "display_name": "my_env",
   "language": "python",
   "name": "python3"
  },
  "language_info": {
   "codemirror_mode": {
    "name": "ipython",
    "version": 3
   },
   "file_extension": ".py",
   "mimetype": "text/x-python",
   "name": "python",
   "nbconvert_exporter": "python",
   "pygments_lexer": "ipython3",
   "version": "3.12.0"
  }
 },
 "nbformat": 4,
 "nbformat_minor": 2
}
