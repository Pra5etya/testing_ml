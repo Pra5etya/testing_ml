{
 "cells": [
  {
   "cell_type": "code",
   "execution_count": null,
   "metadata": {},
   "outputs": [],
   "source": [
    "# Import library yang diperlukan\n",
    "import pandas as pd\n",
    "import numpy as np\n",
    "from sklearn.preprocessing import StandardScaler, OneHotEncoder\n",
    "from sklearn.compose import ColumnTransformer\n",
    "from sklearn.pipeline import Pipeline\n",
    "from sklearn.linear_model import LinearRegression\n",
    "from sklearn.metrics import mean_squared_error, r2_score"
   ]
  },
  {
   "cell_type": "markdown",
   "metadata": {},
   "source": [
    "# Sample"
   ]
  },
  {
   "cell_type": "code",
   "execution_count": null,
   "metadata": {},
   "outputs": [],
   "source": [
    "from sklearn.impute import SimpleImputer\n",
    "import pandas as pd\n",
    "\n",
    "# Contoh dataset (train_df dan test_df)\n",
    "train_df = pd.DataFrame({\n",
    "    'LotArea': [9600, None, 12000, 8500],\n",
    "    'SalePrice': [200000, 150000, None, 130000]\n",
    "})\n",
    "\n",
    "test_df = pd.DataFrame({\n",
    "    'LotArea': [None, 8500, 6000, None],\n",
    "    'SalePrice': [None, 170000, 120000, None]\n",
    "})\n",
    "\n",
    "# Menggabungkan train_df dan test_df untuk transformasi bersama\n",
    "combined_df = pd.concat([train_df, test_df], keys = ['train', 'test'])\n",
    "\n",
    "# Inisialisasi SimpleImputer (misalnya menggunakan mean untuk nilai numerik)\n",
    "imputer = SimpleImputer(strategy='mean')\n",
    "\n",
    "# Terapkan imputasi pada kolom numerik\n",
    "combined_df[['LotArea', 'SalePrice']] = imputer.fit_transform(combined_df[['LotArea', 'SalePrice']])\n",
    "print(\"Combine DataFrame:\")\n",
    "print(combined_df)\n",
    "\n",
    "# Memisahkan kembali train_df dan test_df setelah transformasi\n",
    "train_df = combined_df.xs(key = 'train')\n",
    "test_df = combined_df.xs(key = 'test')\n",
    "\n",
    "# Hasil imputasi\n",
    "print(\"\\nTrain DataFrame:\")\n",
    "print(train_df)\n",
    "print(\"\\nTest DataFrame:\")\n",
    "print(test_df)\n"
   ]
  },
  {
   "cell_type": "markdown",
   "metadata": {},
   "source": [
    "# Sample2"
   ]
  },
  {
   "cell_type": "code",
   "execution_count": null,
   "metadata": {},
   "outputs": [],
   "source": [
    "import pandas as pd\n",
    "from sklearn.model_selection import train_test_split\n",
    "from sklearn.compose import ColumnTransformer\n",
    "from sklearn.preprocessing import StandardScaler, OneHotEncoder\n",
    "from sklearn.linear_model import LinearRegression\n",
    "from sklearn.pipeline import Pipeline\n",
    "from sklearn.impute import SimpleImputer\n",
    "from sklearn.metrics import mean_squared_error\n",
    "\n",
    "# Dataset contoh\n",
    "data = {\n",
    "    'size': [1500, 1800, 2400, 3000, 3500, None],\n",
    "    'location': ['City', 'Suburb', 'City', 'Suburb', 'City', 'Suburb'],\n",
    "    'price': [400000, 450000, 500000, 550000, 600000, 650000]\n",
    "}\n",
    "\n",
    "# Membuat DataFrame\n",
    "df = pd.DataFrame(data)\n",
    "\n",
    "# Memisahkan fitur dan target\n",
    "X = df.drop('price', axis=1)\n",
    "y = df['price']\n",
    "\n",
    "# Membagi data menjadi training dan testing\n",
    "X_train, X_test, y_train, y_test = train_test_split(X, y, test_size=0.33, random_state=42)\n",
    "\n",
    "# Mendefinisikan preprocessing untuk fitur numerik dan kategorikal\n",
    "numeric_features = ['size']\n",
    "categorical_features = ['location']\n",
    "\n",
    "# Membuat transformer untuk preprocessing\n",
    "numeric_transformer = Pipeline(steps=[\n",
    "    ('imputer', SimpleImputer(strategy='mean')),  # Imputasi untuk missing values\n",
    "    ('scaler', StandardScaler())  # Normalisasi data numerik\n",
    "])\n",
    "\n",
    "categorical_transformer = Pipeline(steps=[\n",
    "    ('imputer', SimpleImputer(strategy='most_frequent')),  # Imputasi untuk missing values\n",
    "    ('onehot', OneHotEncoder(handle_unknown='ignore'))  # One-hot encoding\n",
    "])\n",
    "\n",
    "# Membuat ColumnTransformer untuk menerapkan preprocessing pada kolom yang tepat\n",
    "preprocessor = ColumnTransformer(\n",
    "    transformers=[\n",
    "        ('num', numeric_transformer, numeric_features),\n",
    "        ('cat', categorical_transformer, categorical_features)\n",
    "    ])\n",
    "\n",
    "# Membuat pipeline yang menggabungkan preprocessing dengan model\n",
    "model_pipeline = Pipeline(steps=[\n",
    "    ('preprocessor', preprocessor),\n",
    "    ('regressor', LinearRegression())  # Model regresi Linear\n",
    "])\n",
    "\n",
    "# Melatih model dengan data training\n",
    "model_pipeline.fit(X_train, y_train)\n",
    "\n",
    "# Prediksi harga rumah pada data testing\n",
    "y_pred = model_pipeline.predict(X_test)\n",
    "\n",
    "# Menghitung error (Mean Squared Error)\n",
    "mse = mean_squared_error(y_test, y_pred)\n",
    "print(f'Mean Squared Error: {mse}')\n"
   ]
  },
  {
   "cell_type": "markdown",
   "metadata": {},
   "source": [
    "# Sample8"
   ]
  },
  {
   "cell_type": "code",
   "execution_count": null,
   "metadata": {},
   "outputs": [],
   "source": [
    "from sklearn.base import BaseEstimator, TransformerMixin\n",
    "\n",
    "# Kelas khusus untuk menghapus outlier menggunakan metode IQR\n",
    "class OutlierFilter(BaseEstimator, TransformerMixin):\n",
    "    def __init__(self, threshold=1.5):\n",
    "        self.threshold = threshold\n",
    "\n",
    "    def fit(self, X, y=None):\n",
    "        return self\n",
    "\n",
    "    def transform(self, X):\n",
    "        # Menghitung IQR dan menghapus outlier untuk setiap kolom numerik\n",
    "        X_filtered = X.copy()\n",
    "        for col in X_filtered.columns:\n",
    "            Q1 = X_filtered[col].quantile(0.25)\n",
    "            Q3 = X_filtered[col].quantile(0.75)\n",
    "            IQR = Q3 - Q1\n",
    "            lower_bound = Q1 - self.threshold * IQR\n",
    "            upper_bound = Q3 + self.threshold * IQR\n",
    "            # Hanya mempertahankan data yang tidak termasuk outlier\n",
    "            X_filtered = X_filtered[(X_filtered[col] >= lower_bound) & (X_filtered[col] <= upper_bound)]\n",
    "        return X_filtered\n",
    "\n",
    "# Perbarui numerical_pipeline untuk menyertakan langkah outlier filter\n",
    "numerical_pipeline = Pipeline(steps=[\n",
    "    ('outlier_filter', OutlierFilter(threshold=1.5)),\n",
    "    ('imputer', SimpleImputer(strategy='mean')),\n",
    "    ('scaler', StandardScaler())\n",
    "])\n",
    "\n",
    "# Pipeline dan preprocessor lainnya tetap sama\n",
    "ordinal_pipeline = Pipeline(steps=[\n",
    "    ('imputer', SimpleImputer(strategy='most_frequent')),\n",
    "    ('ordinal', OrdinalEncoder(handle_unknown='use_encoded_value', unknown_value=-1))\n",
    "])\n",
    "\n",
    "categorical_pipeline = Pipeline(steps=[\n",
    "    ('imputer', SimpleImputer(strategy='most_frequent')),\n",
    "    ('onehot', OneHotEncoder(handle_unknown='ignore', sparse_output=False))\n",
    "])\n",
    "\n",
    "# Buat ColumnTransformer\n",
    "preprocessor = ColumnTransformer(transformers=[\n",
    "    ('num', numerical_pipeline, numeric_cols),\n",
    "    ('ordinal', ordinal_pipeline, ordinal_encoding_cols),\n",
    "    ('cat', categorical_pipeline, one_hot_encoding_cols)\n",
    "], remainder='drop')\n",
    "\n",
    "# Membuat pipeline yang menggabungkan preprocessing dengan model\n",
    "model_pipeline = Pipeline(steps=[\n",
    "    ('preprocessor', preprocessor),\n",
    "    ('regressor', LinearRegression())\n",
    "])\n"
   ]
  },
  {
   "cell_type": "markdown",
   "metadata": {},
   "source": [
    "# Winsorization"
   ]
  },
  {
   "cell_type": "code",
   "execution_count": 5,
   "metadata": {},
   "outputs": [
    {
     "name": "stdout",
     "output_type": "stream",
     "text": [
      "DataFrame setelah Winsorization:\n",
      "   A   B\n",
      "0  2  12\n",
      "1  2  12\n",
      "2  3  14\n",
      "3  4  16\n",
      "4  5  18\n",
      "5  6  20\n",
      "6  7  22\n",
      "7  8  24\n",
      "8  9  26\n",
      "9  9  26\n"
     ]
    }
   ],
   "source": [
    "import pandas as pd\n",
    "from scipy.stats.mstats import winsorize\n",
    "\n",
    "# Contoh DataFrame\n",
    "data = {\n",
    "    'A': [1, 2, 3, 4, 5, 6, 7, 8, 9, 100],  # Kolom dengan outlier\n",
    "    'B': [10, 12, 14, 16, 18, 20, 22, 24, 26, 300]  # Kolom lain dengan outlier\n",
    "}\n",
    "df = pd.DataFrame(data)\n",
    "\n",
    "# Winsorization pada setiap kolom numerik\n",
    "for col in df.select_dtypes(include=['int64', 'float64']).columns:\n",
    "    df[col] = winsorize(df[col], limits=[0.1, 0.1])\n",
    "\n",
    "print(\"DataFrame setelah Winsorization:\")\n",
    "print(df)\n"
   ]
  },
  {
   "cell_type": "markdown",
   "metadata": {},
   "source": [
    "# Base Estimator"
   ]
  },
  {
   "cell_type": "markdown",
   "metadata": {},
   "source": [
    "## Transformer Kustom"
   ]
  },
  {
   "cell_type": "code",
   "execution_count": null,
   "metadata": {},
   "outputs": [],
   "source": [
    "from sklearn.base import BaseEstimator, TransformerMixin\n",
    "import numpy as np\n",
    "\n",
    "class AddFeatureTransformer(BaseEstimator, TransformerMixin):\n",
    "    def __init__(self, multiplier=1):\n",
    "        self.multiplier = multiplier\n",
    "\n",
    "    def fit(self, X, y=None):\n",
    "        return self  # Fit tidak melakukan apa-apa\n",
    "\n",
    "    def transform(self, X):\n",
    "        # Menambahkan kolom baru berdasarkan operasi dengan multiplier\n",
    "        new_feature = np.sum(X, axis=1).reshape(-1, 1) * self.multiplier\n",
    "        return np.hstack((X, new_feature))\n"
   ]
  },
  {
   "cell_type": "code",
   "execution_count": null,
   "metadata": {},
   "outputs": [],
   "source": [
    "import numpy as np\n",
    "from sklearn.preprocessing import StandardScaler\n",
    "from sklearn.pipeline import Pipeline\n",
    "\n",
    "X = np.array([[1, 2], [3, 4], [5, 6]])\n",
    "\n",
    "# Pipeline dengan transformer kustom\n",
    "pipeline = Pipeline([\n",
    "    ('add_feature', AddFeatureTransformer(multiplier=2)),\n",
    "    ('scaler', StandardScaler())\n",
    "])\n",
    "\n",
    "X_transformed = pipeline.fit_transform(X)\n",
    "print(X_transformed)\n"
   ]
  },
  {
   "cell_type": "markdown",
   "metadata": {},
   "source": [
    "## Classifier Kustom"
   ]
  },
  {
   "cell_type": "code",
   "execution_count": null,
   "metadata": {},
   "outputs": [],
   "source": [
    "from sklearn.base import BaseEstimator, ClassifierMixin\n",
    "import numpy as np\n",
    "\n",
    "class DummyClassifier(BaseEstimator, ClassifierMixin):\n",
    "    def __init__(self, constant_class=0):\n",
    "        self.constant_class = constant_class\n",
    "\n",
    "    def fit(self, X, y):\n",
    "        self.classes_ = np.unique(y)  # Simpan kelas unik\n",
    "        return self\n",
    "\n",
    "    def predict(self, X):\n",
    "        return np.full((X.shape[0],), self.constant_class)\n",
    "\n",
    "    def score(self, X, y):\n",
    "        # Menggunakan akurasi sebagai metrik\n",
    "        return np.mean(self.predict(X) == y)\n"
   ]
  },
  {
   "cell_type": "code",
   "execution_count": null,
   "metadata": {},
   "outputs": [],
   "source": [
    "from sklearn.model_selection import train_test_split\n",
    "from sklearn.metrics import accuracy_score\n",
    "\n",
    "# Contoh dataset\n",
    "X = np.random.rand(100, 2)\n",
    "y = np.random.choice([0, 1], size=100)\n",
    "\n",
    "# Split data\n",
    "X_train, X_test, y_train, y_test = train_test_split(X, y, test_size=0.3, random_state=42)\n",
    "\n",
    "# Dummy classifier\n",
    "dummy_clf = DummyClassifier(constant_class=1)\n",
    "dummy_clf.fit(X_train, y_train)\n",
    "y_pred = dummy_clf.predict(X_test)\n",
    "\n",
    "# Evaluasi\n",
    "print(\"Accuracy:\", accuracy_score(y_test, y_pred))\n"
   ]
  }
 ],
 "metadata": {
  "kernelspec": {
   "display_name": "my_env",
   "language": "python",
   "name": "python3"
  },
  "language_info": {
   "codemirror_mode": {
    "name": "ipython",
    "version": 3
   },
   "file_extension": ".py",
   "mimetype": "text/x-python",
   "name": "python",
   "nbconvert_exporter": "python",
   "pygments_lexer": "ipython3",
   "version": "3.12.0"
  }
 },
 "nbformat": 4,
 "nbformat_minor": 2
}
