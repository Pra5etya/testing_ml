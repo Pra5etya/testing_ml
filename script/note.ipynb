{
 "cells": [
  {
   "cell_type": "code",
   "execution_count": null,
   "metadata": {},
   "outputs": [],
   "source": [
    "# Import library yang diperlukan\n",
    "import pandas as pd\n",
    "import numpy as np\n",
    "from sklearn.preprocessing import StandardScaler, OneHotEncoder\n",
    "from sklearn.compose import ColumnTransformer\n",
    "from sklearn.pipeline import Pipeline\n",
    "from sklearn.linear_model import LinearRegression\n",
    "from sklearn.metrics import mean_squared_error, r2_score"
   ]
  },
  {
   "cell_type": "markdown",
   "metadata": {},
   "source": [
    "# Sample"
   ]
  },
  {
   "cell_type": "code",
   "execution_count": null,
   "metadata": {},
   "outputs": [],
   "source": [
    "from sklearn.impute import SimpleImputer\n",
    "import pandas as pd\n",
    "\n",
    "# Contoh dataset (train_df dan test_df)\n",
    "train_df = pd.DataFrame({\n",
    "    'LotArea': [9600, None, 12000, 8500],\n",
    "    'SalePrice': [200000, 150000, None, 130000]\n",
    "})\n",
    "\n",
    "test_df = pd.DataFrame({\n",
    "    'LotArea': [None, 8500, 6000, None],\n",
    "    'SalePrice': [None, 170000, 120000, None]\n",
    "})\n",
    "\n",
    "# Menggabungkan train_df dan test_df untuk transformasi bersama\n",
    "combined_df = pd.concat([train_df, test_df], keys = ['train', 'test'])\n",
    "\n",
    "# Inisialisasi SimpleImputer (misalnya menggunakan mean untuk nilai numerik)\n",
    "imputer = SimpleImputer(strategy='mean')\n",
    "\n",
    "# Terapkan imputasi pada kolom numerik\n",
    "combined_df[['LotArea', 'SalePrice']] = imputer.fit_transform(combined_df[['LotArea', 'SalePrice']])\n",
    "print(\"Combine DataFrame:\")\n",
    "print(combined_df)\n",
    "\n",
    "# Memisahkan kembali train_df dan test_df setelah transformasi\n",
    "train_df = combined_df.xs(key = 'train')\n",
    "test_df = combined_df.xs(key = 'test')\n",
    "\n",
    "# Hasil imputasi\n",
    "print(\"\\nTrain DataFrame:\")\n",
    "print(train_df)\n",
    "print(\"\\nTest DataFrame:\")\n",
    "print(test_df)\n"
   ]
  },
  {
   "cell_type": "markdown",
   "metadata": {},
   "source": [
    "# Sample2"
   ]
  },
  {
   "cell_type": "code",
   "execution_count": null,
   "metadata": {},
   "outputs": [],
   "source": [
    "import pandas as pd\n",
    "from sklearn.model_selection import train_test_split\n",
    "from sklearn.compose import ColumnTransformer\n",
    "from sklearn.preprocessing import StandardScaler, OneHotEncoder\n",
    "from sklearn.linear_model import LinearRegression\n",
    "from sklearn.pipeline import Pipeline\n",
    "from sklearn.impute import SimpleImputer\n",
    "from sklearn.metrics import mean_squared_error\n",
    "\n",
    "# Dataset contoh\n",
    "data = {\n",
    "    'size': [1500, 1800, 2400, 3000, 3500, None],\n",
    "    'location': ['City', 'Suburb', 'City', 'Suburb', 'City', 'Suburb'],\n",
    "    'price': [400000, 450000, 500000, 550000, 600000, 650000]\n",
    "}\n",
    "\n",
    "# Membuat DataFrame\n",
    "df = pd.DataFrame(data)\n",
    "\n",
    "# Memisahkan fitur dan target\n",
    "X = df.drop('price', axis=1)\n",
    "y = df['price']\n",
    "\n",
    "# Membagi data menjadi training dan testing\n",
    "X_train, X_test, y_train, y_test = train_test_split(X, y, test_size=0.33, random_state=42)\n",
    "\n",
    "# Mendefinisikan preprocessing untuk fitur numerik dan kategorikal\n",
    "numeric_features = ['size']\n",
    "categorical_features = ['location']\n",
    "\n",
    "# Membuat transformer untuk preprocessing\n",
    "numeric_transformer = Pipeline(steps=[\n",
    "    ('imputer', SimpleImputer(strategy='mean')),  # Imputasi untuk missing values\n",
    "    ('scaler', StandardScaler())  # Normalisasi data numerik\n",
    "])\n",
    "\n",
    "categorical_transformer = Pipeline(steps=[\n",
    "    ('imputer', SimpleImputer(strategy='most_frequent')),  # Imputasi untuk missing values\n",
    "    ('onehot', OneHotEncoder(handle_unknown='ignore'))  # One-hot encoding\n",
    "])\n",
    "\n",
    "# Membuat ColumnTransformer untuk menerapkan preprocessing pada kolom yang tepat\n",
    "preprocessor = ColumnTransformer(\n",
    "    transformers=[\n",
    "        ('num', numeric_transformer, numeric_features),\n",
    "        ('cat', categorical_transformer, categorical_features)\n",
    "    ])\n",
    "\n",
    "# Membuat pipeline yang menggabungkan preprocessing dengan model\n",
    "model_pipeline = Pipeline(steps=[\n",
    "    ('preprocessor', preprocessor),\n",
    "    ('regressor', LinearRegression())  # Model regresi Linear\n",
    "])\n",
    "\n",
    "# Melatih model dengan data training\n",
    "model_pipeline.fit(X_train, y_train)\n",
    "\n",
    "# Prediksi harga rumah pada data testing\n",
    "y_pred = model_pipeline.predict(X_test)\n",
    "\n",
    "# Menghitung error (Mean Squared Error)\n",
    "mse = mean_squared_error(y_test, y_pred)\n",
    "print(f'Mean Squared Error: {mse}')\n"
   ]
  },
  {
   "cell_type": "markdown",
   "metadata": {},
   "source": [
    "# Sample8"
   ]
  }
 ],
 "metadata": {
  "kernelspec": {
   "display_name": "my_env",
   "language": "python",
   "name": "python3"
  },
  "language_info": {
   "codemirror_mode": {
    "name": "ipython",
    "version": 3
   },
   "file_extension": ".py",
   "mimetype": "text/x-python",
   "name": "python",
   "nbconvert_exporter": "python",
   "pygments_lexer": "ipython3",
   "version": "3.12.0"
  }
 },
 "nbformat": 4,
 "nbformat_minor": 2
}
