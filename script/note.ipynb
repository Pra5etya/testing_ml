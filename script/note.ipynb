{
 "cells": [
  {
   "cell_type": "markdown",
   "metadata": {},
   "source": [
    "# Winsorization"
   ]
  },
  {
   "cell_type": "code",
   "execution_count": null,
   "metadata": {},
   "outputs": [
    {
     "name": "stdout",
     "output_type": "stream",
     "text": [
      "DataFrame setelah Winsorization:\n",
      "   A   B\n",
      "0  2  12\n",
      "1  2  12\n",
      "2  3  14\n",
      "3  4  16\n",
      "4  5  18\n",
      "5  6  20\n",
      "6  7  22\n",
      "7  8  24\n",
      "8  9  26\n",
      "9  9  26\n"
     ]
    }
   ],
   "source": [
    "import pandas as pd\n",
    "from scipy.stats.mstats import winsorize\n",
    "\n",
    "# Contoh DataFrame\n",
    "data = {\n",
    "    'A': [1, 2, 3, 4, 5, 6, 7, 8, 9, 100, 250],  # Kolom dengan outlier\n",
    "    'B': [10, 12, 14, 16, 18, 20, 22, 24, 26, 300, 700]  # Kolom lain dengan outlier\n",
    "}\n",
    "df = pd.DataFrame(data)\n",
    "\n",
    "# Winsorization pada setiap kolom numerik\n",
    "for col in df.select_dtypes(include = ['int', 'float']).columns:\n",
    "    df[col] = winsorize(df[col], limits = [0.1, 0.1])\n",
    "\n",
    "print(\"DataFrame setelah Winsorization:\")\n",
    "print(df)"
   ]
  },
  {
   "cell_type": "markdown",
   "metadata": {},
   "source": [
    "# Distribution"
   ]
  },
  {
   "cell_type": "code",
   "execution_count": null,
   "metadata": {},
   "outputs": [
    {
     "name": "stdout",
     "output_type": "stream",
     "text": [
      "<class 'pandas.core.frame.DataFrame'>\n"
     ]
    },
    {
     "data": {
      "text/html": [
       "<div>\n",
       "<style scoped>\n",
       "    .dataframe tbody tr th:only-of-type {\n",
       "        vertical-align: middle;\n",
       "    }\n",
       "\n",
       "    .dataframe tbody tr th {\n",
       "        vertical-align: top;\n",
       "    }\n",
       "\n",
       "    .dataframe thead th {\n",
       "        text-align: right;\n",
       "    }\n",
       "</style>\n",
       "<table border=\"1\" class=\"dataframe\">\n",
       "  <thead>\n",
       "    <tr style=\"text-align: right;\">\n",
       "      <th>col_0</th>\n",
       "      <th>Memiliki Rumah</th>\n",
       "      <th>Tidak Memiliki Rumah</th>\n",
       "    </tr>\n",
       "    <tr>\n",
       "      <th>row_0</th>\n",
       "      <th></th>\n",
       "      <th></th>\n",
       "    </tr>\n",
       "  </thead>\n",
       "  <tbody>\n",
       "    <tr>\n",
       "      <th>Mobil</th>\n",
       "      <td>1</td>\n",
       "      <td>2</td>\n",
       "    </tr>\n",
       "    <tr>\n",
       "      <th>Motor</th>\n",
       "      <td>1</td>\n",
       "      <td>1</td>\n",
       "    </tr>\n",
       "    <tr>\n",
       "      <th>Sepeda</th>\n",
       "      <td>2</td>\n",
       "      <td>0</td>\n",
       "    </tr>\n",
       "  </tbody>\n",
       "</table>\n",
       "</div>"
      ],
      "text/plain": [
       "col_0   Memiliki Rumah  Tidak Memiliki Rumah\n",
       "row_0                                       \n",
       "Mobil                1                     2\n",
       "Motor                1                     1\n",
       "Sepeda               2                     0"
      ]
     },
     "metadata": {},
     "output_type": "display_data"
    }
   ],
   "source": [
    "import pandas as pd\n",
    "\n",
    "# Misalkan kita punya dua kolom data kategorikal dalam format list atau DataFrame\n",
    "jenis_kendaraan = ['Mobil', 'Mobil', 'Motor', 'Sepeda', 'Motor', 'Mobil', 'Sepeda']\n",
    "status_rumah = ['Memiliki Rumah', 'Tidak Memiliki Rumah', 'Memiliki Rumah', 'Memiliki Rumah', 'Tidak Memiliki Rumah', 'Tidak Memiliki Rumah', 'Memiliki Rumah']\n",
    "\n",
    "# Membuat tabel kontingensi\n",
    "tabel_kontingensi = pd.crosstab(jenis_kendaraan, status_rumah)\n",
    "print(type(tabel_kontingensi))\n",
    "tabel_kontingensi\n"
   ]
  },
  {
   "cell_type": "code",
   "execution_count": null,
   "metadata": {},
   "outputs": [
    {
     "name": "stdout",
     "output_type": "stream",
     "text": [
      "Chi-Square Statistic: 2.236111111111111\n",
      "P-Value: 0.32691484476680416\n"
     ]
    }
   ],
   "source": [
    "# Menggunakan chi2_contingency pada tabel kontingensi\n",
    "chi2, p, dof, expected = chi2_contingency(tabel_kontingensi)\n",
    "\n",
    "print(f\"Chi-Square Statistic: {chi2}\")\n",
    "print(f\"P-Value: {p}\")\n"
   ]
  },
  {
   "cell_type": "markdown",
   "metadata": {},
   "source": [
    "# Ensemble - Voting Methode"
   ]
  },
  {
   "cell_type": "code",
   "execution_count": null,
   "metadata": {},
   "outputs": [],
   "source": [
    "import numpy as np\n",
    "import pandas as pd\n",
    "from sklearn.model_selection import train_test_split, GridSearchCV\n",
    "from sklearn.pipeline import Pipeline\n",
    "from sklearn.compose import ColumnTransformer\n",
    "from sklearn.preprocessing import StandardScaler, OneHotEncoder\n",
    "from sklearn.linear_model import LinearRegression, Ridge, Lasso, ElasticNet\n",
    "from sklearn.ensemble import VotingRegressor\n",
    "from sklearn.metrics import mean_absolute_error"
   ]
  },
  {
   "cell_type": "code",
   "execution_count": null,
   "metadata": {},
   "outputs": [],
   "source": [
    "# Dataset contoh\n",
    "data = {\n",
    "    \"Luas_Rumah\": [50, 80, 120, 200, 50, 100, 1200, 80, np.nan],\n",
    "    \"Jumlah_Kamar\": [2, 3, 4, 5, 2, 3, 6, 3, 3],\n",
    "    \"Lokasi\": [\"Pusat\", \"Pinggir\", \"Pinggir\", \"Pusat\", \"Pusat\", \"Pinggir\", \"Pinggir\", \"Pusat\", np.nan],\n",
    "    \"Usia_Bangunan\": [5, 10, 15, 20, 5, 10, 3, 8, 10],\n",
    "    \"Harga_Rumah\": [500, 700, 1000, 1500, 500, 800, 5000, 600, 700]\n",
    "}\n",
    "df = pd.DataFrame(data)"
   ]
  },
  {
   "cell_type": "code",
   "execution_count": null,
   "metadata": {},
   "outputs": [
    {
     "name": "stderr",
     "output_type": "stream",
     "text": [
      "C:\\Users\\POSCO-DX\\AppData\\Local\\Temp\\ipykernel_2988\\1747119776.py:5: FutureWarning: A value is trying to be set on a copy of a DataFrame or Series through chained assignment using an inplace method.\n",
      "The behavior will change in pandas 3.0. This inplace method will never work because the intermediate object on which we are setting values always behaves as a copy.\n",
      "\n",
      "For example, when doing 'df[col].method(value, inplace=True)', try using 'df.method({col: value}, inplace=True)' or df[col] = df[col].method(value) instead, to perform the operation inplace on the original object.\n",
      "\n",
      "\n",
      "  df['Luas_Rumah'].fillna(df['Luas_Rumah'].median(), inplace=True)\n",
      "C:\\Users\\POSCO-DX\\AppData\\Local\\Temp\\ipykernel_2988\\1747119776.py:6: FutureWarning: A value is trying to be set on a copy of a DataFrame or Series through chained assignment using an inplace method.\n",
      "The behavior will change in pandas 3.0. This inplace method will never work because the intermediate object on which we are setting values always behaves as a copy.\n",
      "\n",
      "For example, when doing 'df[col].method(value, inplace=True)', try using 'df.method({col: value}, inplace=True)' or df[col] = df[col].method(value) instead, to perform the operation inplace on the original object.\n",
      "\n",
      "\n",
      "  df['Lokasi'].fillna(df['Lokasi'].mode()[0], inplace=True)\n"
     ]
    }
   ],
   "source": [
    "# Menghapus duplikasi\n",
    "df = df.drop_duplicates()\n",
    "\n",
    "# Menangani null values\n",
    "df['Luas_Rumah'].fillna(df['Luas_Rumah'].median(), inplace=True)\n",
    "df['Lokasi'].fillna(df['Lokasi'].mode()[0], inplace=True)\n",
    "\n",
    "# Mengatasi outliers dengan metode IQR\n",
    "Q1 = df['Luas_Rumah'].quantile(0.25)\n",
    "Q3 = df['Luas_Rumah'].quantile(0.75)\n",
    "IQR = Q3 - Q1\n",
    "lower_bound = Q1 - 1.5 * IQR\n",
    "upper_bound = Q3 + 1.5 * IQR\n",
    "df = df[(df['Luas_Rumah'] >= lower_bound) & (df['Luas_Rumah'] <= upper_bound)]"
   ]
  },
  {
   "cell_type": "code",
   "execution_count": null,
   "metadata": {},
   "outputs": [],
   "source": [
    "# Membagi data\n",
    "X = df.drop(columns=['Harga_Rumah'])\n",
    "y = df['Harga_Rumah']\n",
    "X_train, X_test, y_train, y_test = train_test_split(X, y, test_size=0.2, random_state=42)\n",
    "\n",
    "# Definisi fitur numerik dan kategori\n",
    "num_features = ['Luas_Rumah', 'Jumlah_Kamar', 'Usia_Bangunan']\n",
    "cat_features = ['Lokasi']"
   ]
  },
  {
   "cell_type": "code",
   "execution_count": null,
   "metadata": {},
   "outputs": [],
   "source": [
    "# ColumnTransformer\n",
    "preprocessor = ColumnTransformer(\n",
    "    transformers=[\n",
    "        ('num', StandardScaler(), num_features),\n",
    "        ('cat', OneHotEncoder(handle_unknown='ignore'), cat_features)\n",
    "    ]\n",
    ")"
   ]
  },
  {
   "cell_type": "code",
   "execution_count": null,
   "metadata": {},
   "outputs": [
    {
     "name": "stdout",
     "output_type": "stream",
     "text": [
      "Fitting 5 folds for each of 1260 candidates, totalling 6300 fits\n",
      "Best Ridge Parameters: {'model__alpha': 0.01, 'model__fit_intercept': True, 'model__max_iter': 50000, 'model__random_state': None, 'model__solver': 'saga', 'model__tol': 0.01}\n"
     ]
    }
   ],
   "source": [
    "# Ridge Regression\n",
    "ridge_pipeline = Pipeline([\n",
    "    ('preprocessor', preprocessor),\n",
    "    ('model', Ridge())\n",
    "])\n",
    "\n",
    "# Hyperparameter Grid untuk GridSearchCV\n",
    "param_grid_ridge = {\n",
    "    'model__alpha': [0.01, 0.1, 1, 10, 100],\n",
    "    'model__max_iter': [50000, 100000, 200000],\n",
    "    'model__solver': ['auto', 'svd', 'cholesky', 'lsqr', 'sparse_cg', 'sag', 'saga'], \n",
    "    'model__fit_intercept': [True, False],\n",
    "    'model__tol': [1e-4, 1e-3, 1e-2],\n",
    "    'model__random_state': [None, 42]\n",
    "}\n",
    "\n",
    "\n",
    "ridge_search = GridSearchCV(\n",
    "    estimator=ridge_pipeline,\n",
    "    param_grid=param_grid_ridge,\n",
    "    scoring='neg_mean_absolute_error',\n",
    "    cv=5,\n",
    "    error_score= 'raise',\n",
    "    verbose=1\n",
    ")\n",
    "ridge_search.fit(X_train, y_train)\n",
    "print(f\"Best Ridge Parameters: {ridge_search.best_params_}\")"
   ]
  },
  {
   "cell_type": "code",
   "execution_count": null,
   "metadata": {},
   "outputs": [
    {
     "name": "stdout",
     "output_type": "stream",
     "text": [
      "Fitting 5 folds for each of 360 candidates, totalling 1800 fits\n",
      "Best Lasso Parameters: {'model__alpha': 1, 'model__fit_intercept': True, 'model__max_iter': 200000, 'model__random_state': None, 'model__selection': 'random', 'model__tol': 0.0001}\n"
     ]
    }
   ],
   "source": [
    "# Lasso Regression\n",
    "lasso_pipeline = Pipeline([\n",
    "    ('preprocessor', preprocessor),\n",
    "    ('model', Lasso())\n",
    "])\n",
    "\n",
    "param_grid_lasso = {\n",
    "    'model__alpha': [0.01, 0.1, 1, 10, 100],\n",
    "    'model__max_iter': [50000, 100000, 200000],\n",
    "    'model__fit_intercept': [True, False],\n",
    "    'model__tol': [1e-4, 1e-3, 1e-2],\n",
    "    'model__selection': ['cyclic', 'random'],\n",
    "    'model__random_state': [None, 42]\n",
    "}\n",
    "\n",
    "lasso_search = GridSearchCV(\n",
    "    estimator=lasso_pipeline,\n",
    "    param_grid=param_grid_lasso,\n",
    "    scoring='neg_mean_absolute_error',\n",
    "    cv=5,\n",
    "    error_score = 'raise', \n",
    "    verbose=1\n",
    ")\n",
    "lasso_search.fit(X_train, y_train)\n",
    "print(f\"Best Lasso Parameters: {lasso_search.best_params_}\")"
   ]
  },
  {
   "cell_type": "code",
   "execution_count": null,
   "metadata": {},
   "outputs": [
    {
     "name": "stdout",
     "output_type": "stream",
     "text": [
      "Fitting 5 folds for each of 900 candidates, totalling 4500 fits\n",
      "Best ElasticNet Parameters: {'model__alpha': 0.1, 'model__fit_intercept': True, 'model__l1_ratio': 0.9, 'model__max_iter': 50000, 'model__random_state': None, 'model__tol': 0.01}\n"
     ]
    }
   ],
   "source": [
    "# ElasticNet Regression\n",
    "elasticnet_pipeline = Pipeline([\n",
    "    ('preprocessor', preprocessor),\n",
    "    ('model', ElasticNet())\n",
    "])\n",
    "\n",
    "param_grid_elasticnet = {\n",
    "    'model__alpha': [0.01, 0.1, 1, 10, 100],\n",
    "    'model__l1_ratio': [0.1, 0.3, 0.5, 0.7, 0.9],\n",
    "    'model__fit_intercept': [True, False],\n",
    "    'model__max_iter': [50000, 100000, 200000],\n",
    "    'model__tol': [1e-4, 1e-3, 1e-2],\n",
    "    'model__random_state': [None, 42]\n",
    "}\n",
    "\n",
    "elasticnet_search = GridSearchCV(\n",
    "    estimator=elasticnet_pipeline,\n",
    "    param_grid=param_grid_elasticnet,\n",
    "    scoring='neg_mean_absolute_error',\n",
    "    cv=5,\n",
    "    error_score = 'raise', \n",
    "    verbose=1\n",
    ")\n",
    "elasticnet_search.fit(X_train, y_train)\n",
    "print(f\"Best ElasticNet Parameters: {elasticnet_search.best_params_}\")"
   ]
  },
  {
   "cell_type": "code",
   "execution_count": null,
   "metadata": {},
   "outputs": [],
   "source": [
    "# Membuat pipeline dengan parameter terbaik\n",
    "ridge_best = ridge_search.best_estimator_\n",
    "lasso_best = lasso_search.best_estimator_\n",
    "elasticnet_best = elasticnet_search.best_estimator_\n",
    "\n",
    "# Linear Regression tetap default\n",
    "linear_pipeline = Pipeline([\n",
    "    ('preprocessor', preprocessor),\n",
    "    ('model', LinearRegression())\n",
    "])\n",
    "\n",
    "# Voting Regressor dengan model terbaik\n",
    "voting_regressor = VotingRegressor(\n",
    "    estimators=[\n",
    "        ('linear', linear_pipeline),\n",
    "        ('ridge', ridge_best),\n",
    "        ('lasso', lasso_best),\n",
    "        ('elasticnet', elasticnet_best)\n",
    "    ]\n",
    ")"
   ]
  },
  {
   "cell_type": "code",
   "execution_count": null,
   "metadata": {},
   "outputs": [
    {
     "name": "stdout",
     "output_type": "stream",
     "text": [
      "Mean Absolute Error (Voting Regressor): 97.12\n"
     ]
    }
   ],
   "source": [
    "# Training Voting Regressor\n",
    "voting_regressor.fit(X_train, y_train)\n",
    "\n",
    "# Prediksi dan Evaluasi\n",
    "y_pred = voting_regressor.predict(X_test)\n",
    "mae = mean_absolute_error(y_test, y_pred)\n",
    "print(f\"Mean Absolute Error (Voting Regressor): {mae:.2f}\")"
   ]
  }
 ],
 "metadata": {
  "kernelspec": {
   "display_name": "base",
   "language": "python",
   "name": "python3"
  },
  "language_info": {
   "codemirror_mode": {
    "name": "ipython",
    "version": 3
   },
   "file_extension": ".py",
   "mimetype": "text/x-python",
   "name": "python",
   "nbconvert_exporter": "python",
   "pygments_lexer": "ipython3",
   "version": "3.12.4"
  }
 },
 "nbformat": 4,
 "nbformat_minor": 2
}
