{
 "cells": [
  {
   "cell_type": "code",
   "execution_count": null,
   "metadata": {},
   "outputs": [],
   "source": [
    "# Import library yang diperlukan\n",
    "import pandas as pd\n",
    "import numpy as np\n",
    "from sklearn.preprocessing import StandardScaler, OneHotEncoder\n",
    "from sklearn.compose import ColumnTransformer\n",
    "from sklearn.pipeline import Pipeline\n",
    "from sklearn.linear_model import LinearRegression\n",
    "from sklearn.metrics import mean_squared_error, r2_score"
   ]
  },
  {
   "cell_type": "markdown",
   "metadata": {},
   "source": [
    "# Winsorization"
   ]
  },
  {
   "cell_type": "code",
   "execution_count": null,
   "metadata": {},
   "outputs": [
    {
     "name": "stdout",
     "output_type": "stream",
     "text": [
      "DataFrame setelah Winsorization:\n",
      "   A   B\n",
      "0  2  12\n",
      "1  2  12\n",
      "2  3  14\n",
      "3  4  16\n",
      "4  5  18\n",
      "5  6  20\n",
      "6  7  22\n",
      "7  8  24\n",
      "8  9  26\n",
      "9  9  26\n"
     ]
    }
   ],
   "source": [
    "import pandas as pd\n",
    "from scipy.stats.mstats import winsorize\n",
    "\n",
    "# Contoh DataFrame\n",
    "data = {\n",
    "    'A': [1, 2, 3, 4, 5, 6, 7, 8, 9, 100, 250],  # Kolom dengan outlier\n",
    "    'B': [10, 12, 14, 16, 18, 20, 22, 24, 26, 300, 700]  # Kolom lain dengan outlier\n",
    "}\n",
    "df = pd.DataFrame(data)\n",
    "\n",
    "# Winsorization pada setiap kolom numerik\n",
    "for col in df.select_dtypes(include=['int64', 'float64']).columns:\n",
    "    df[col] = winsorize(df[col], limits=[0.1, 0.1])\n",
    "\n",
    "print(\"DataFrame setelah Winsorization:\")\n",
    "print(df)"
   ]
  },
  {
   "cell_type": "markdown",
   "metadata": {},
   "source": [
    "# Base Estimator"
   ]
  },
  {
   "cell_type": "markdown",
   "metadata": {},
   "source": [
    "## Transformer Kustom"
   ]
  },
  {
   "cell_type": "code",
   "execution_count": null,
   "metadata": {},
   "outputs": [],
   "source": [
    "from sklearn.base import BaseEstimator, TransformerMixin\n",
    "import numpy as np\n",
    "\n",
    "class AddFeatureTransformer(BaseEstimator, TransformerMixin):\n",
    "    def __init__(self, multiplier=1):\n",
    "        self.multiplier = multiplier\n",
    "\n",
    "    def fit(self, X, y=None):\n",
    "        return self  # Fit tidak melakukan apa-apa\n",
    "\n",
    "    def transform(self, X):\n",
    "        # Menambahkan kolom baru berdasarkan operasi dengan multiplier\n",
    "        new_feature = np.sum(X, axis=1).reshape(-1, 1) * self.multiplier\n",
    "        return np.hstack((X, new_feature))\n"
   ]
  },
  {
   "cell_type": "code",
   "execution_count": null,
   "metadata": {},
   "outputs": [],
   "source": [
    "import numpy as np\n",
    "from sklearn.preprocessing import StandardScaler\n",
    "from sklearn.pipeline import Pipeline\n",
    "\n",
    "X = np.array([[1, 2], [3, 4], [5, 6]])\n",
    "\n",
    "# Pipeline dengan transformer kustom\n",
    "pipeline = Pipeline([\n",
    "    ('add_feature', AddFeatureTransformer(multiplier=2)),\n",
    "    ('scaler', StandardScaler())\n",
    "])\n",
    "\n",
    "X_transformed = pipeline.fit_transform(X)\n",
    "print(X_transformed)\n"
   ]
  },
  {
   "cell_type": "markdown",
   "metadata": {},
   "source": [
    "## Classifier Kustom"
   ]
  },
  {
   "cell_type": "code",
   "execution_count": null,
   "metadata": {},
   "outputs": [],
   "source": [
    "from sklearn.base import BaseEstimator, ClassifierMixin\n",
    "import numpy as np\n",
    "\n",
    "class DummyClassifier(BaseEstimator, ClassifierMixin):\n",
    "    def __init__(self, constant_class=0):\n",
    "        self.constant_class = constant_class\n",
    "\n",
    "    def fit(self, X, y):\n",
    "        self.classes_ = np.unique(y)  # Simpan kelas unik\n",
    "        return self\n",
    "\n",
    "    def predict(self, X):\n",
    "        return np.full((X.shape[0],), self.constant_class)\n",
    "\n",
    "    def score(self, X, y):\n",
    "        # Menggunakan akurasi sebagai metrik\n",
    "        return np.mean(self.predict(X) == y)\n"
   ]
  },
  {
   "cell_type": "code",
   "execution_count": null,
   "metadata": {},
   "outputs": [],
   "source": [
    "from sklearn.model_selection import train_test_split\n",
    "from sklearn.metrics import accuracy_score\n",
    "\n",
    "# Contoh dataset\n",
    "X = np.random.rand(100, 2)\n",
    "y = np.random.choice([0, 1], size=100)\n",
    "\n",
    "# Split data\n",
    "X_train, X_test, y_train, y_test = train_test_split(X, y, test_size=0.3, random_state=42)\n",
    "\n",
    "# Dummy classifier\n",
    "dummy_clf = DummyClassifier(constant_class=1)\n",
    "dummy_clf.fit(X_train, y_train)\n",
    "y_pred = dummy_clf.predict(X_test)\n",
    "\n",
    "# Evaluasi\n",
    "print(\"Accuracy:\", accuracy_score(y_test, y_pred))\n"
   ]
  },
  {
   "cell_type": "markdown",
   "metadata": {},
   "source": [
    "# Other"
   ]
  },
  {
   "cell_type": "code",
   "execution_count": null,
   "metadata": {},
   "outputs": [],
   "source": [
    "# Identifikasi kolom yang ada di train dan test\n",
    "ordinal_encoding_cols = list(set(train_ordinal_cols) & set(test_ordinal_cols))\n",
    "one_hot_encoding_cols = list(set(train_one_hot_cols) & set(test_one_hot_cols))\n",
    "numeric_cols = list(set(train_numeric_cols) & set(test_numeric_cols))\n",
    "\n",
    "print(f'ordinal cols: {ordinal_encoding_cols}')\n",
    "print(f'one-hot cols: {one_hot_encoding_cols}')\n",
    "print(f'numeric cols: {numeric_cols}')\n",
    "\n",
    "# Preprocessing transformers\n",
    "numerical_transformer = StandardScaler()\n",
    "categorical_transformer = OneHotEncoder(handle_unknown='ignore', sparse_output=False)\n",
    "ordinal_transformer = OrdinalEncoder(handle_unknown='use_encoded_value', unknown_value=-1)\n",
    "\n",
    "# ColumnTransformer untuk preprocessing data\n",
    "prep_stage_2 = ColumnTransformer(\n",
    "    transformers=[\n",
    "        (\"num\", numerical_transformer, numeric_cols), \n",
    "        (\"cat\", categorical_transformer, one_hot_encoding_cols), \n",
    "        (\"ord\", ordinal_transformer, ordinal_encoding_cols)\n",
    "    ], remainder=\"passthrough\"\n",
    ")\n",
    "\n",
    "# Transform data untuk train\n",
    "transformed_data = prep_stage_2.fit_transform(train_df)\n",
    "\n",
    "# Mendapatkan nama kolom baru untuk OneHotEncoder\n",
    "categorical_feature_names = prep_stage_2.named_transformers_[\"cat\"].get_feature_names_out(one_hot_encoding_cols)\n",
    "\n",
    "# Gabungkan semua nama kolom\n",
    "all_columns = (\n",
    "    numeric_cols +\n",
    "    list(categorical_feature_names) +\n",
    "    ordinal_encoding_cols +\n",
    "    list(train_df.columns.difference(numeric_cols + one_hot_encoding_cols + ordinal_encoding_cols))\n",
    ")\n",
    "\n",
    "# Membuat DataFrame dengan kolom hasil transformasi\n",
    "train_df = pd.DataFrame(transformed_data, columns=all_columns)\n",
    "\n",
    "# Menampilkan total null pada setiap kolom\n",
    "null_columns = train_df.isnull().sum()[train_df.isnull().sum() > 0]\n",
    "print(f'Train Stage 2 Check: {null_columns}')\n",
    "train_df.head(3)\n",
    "\n",
    "# Transform data untuk test\n",
    "transformed_data = prep_stage_2.transform(test_df)\n",
    "\n",
    "# Membuat DataFrame dengan kolom hasil transformasi untuk test\n",
    "test_df = pd.DataFrame(transformed_data, columns=all_columns)\n",
    "\n",
    "# Menampilkan total null pada setiap kolom\n",
    "null_columns = test_df.isnull().sum()[test_df.isnull().sum() > 0]\n",
    "print(f'Test Stage 2 Check: {null_columns}')\n",
    "test_df.head(3)\n",
    "\n",
    "# Memisahkan kolom target dari data\n",
    "target_col = 'SalePrice'\n",
    "\n",
    "if target_col in train_df.columns:\n",
    "    X_train = train_df.drop(columns=[target_col])\n",
    "    y_train = train_df[target_col]\n",
    "else:\n",
    "    X_train = train_df  \n",
    "    y_train = None  \n",
    "\n",
    "if target_col in test_df.columns:\n",
    "    X_test = test_df.drop(columns=[target_col])\n",
    "else:\n",
    "    X_test = test_df  \n",
    "\n",
    "# Membuat pipeline yang menggabungkan preprocessing dengan model\n",
    "model_pipeline = Pipeline(steps=[\n",
    "    ('regressor', LinearRegression())\n",
    "])\n",
    "\n",
    "# Definisikan parameter grid untuk GridSearchCV dengan beberapa model\n",
    "param_grid = [\n",
    "    {'regressor': [LinearRegression()]},\n",
    "    {\n",
    "        'regressor': [Ridge()],\n",
    "        'regressor__alpha': [0.1, 1.0, 100.0, 1000.0, 10000.0], \n",
    "        'regressor__max_iter': [50000, 100000, 200000], \n",
    "        'regressor__tol': [1e-3, 1e-4, 1e-6]\n",
    "    },\n",
    "    {\n",
    "        'regressor': [Lasso()],\n",
    "        'regressor__alpha': [0.1, 1.0, 100.0, 1000.0, 10000.0],\n",
    "        'regressor__max_iter': [50000, 100000, 200000],\n",
    "        'regressor__tol': [1e-3, 1e-4, 1e-6]\n",
    "    },\n",
    "]\n",
    "\n",
    "# Melakukan Grid Search\n",
    "grid_search = GridSearchCV(model_pipeline, param_grid, cv=5, scoring='neg_mean_squared_error', error_score=np.nan, verbose=1)\n",
    "\n",
    "# Mengecek jumlah nilai NaN dan inf di X_train dan y_train\n",
    "print(\"Jumlah NaN di X_train:\", pd.isna(X_train).sum().sum())\n",
    "print(\"Jumlah NaN di y_train:\", pd.isna(y_train).sum())\n",
    "\n",
    "# Memeriksa apakah y_train tidak None dan ukuran X_train sesuai\n",
    "if y_train is not None and X_train.shape[0] == y_train.shape[0]:\n",
    "    grid_search.fit(X_train, y_train)\n",
    "else:\n",
    "    raise ValueError(\"Ukuran X_train dan y_train tidak cocok atau y_train tidak tersedia.\")\n",
    "\n",
    "# Model terbaik dari Grid Search\n",
    "best_model = grid_search.best_estimator_\n",
    "\n",
    "# Prediksi harga rumah pada data testing menggunakan model terbaik\n",
    "y_pred = best_model.predict(X_test)\n",
    "\n",
    "# Menampilkan prediksi\n",
    "print(\"Predicted prices:\", y_pred)\n",
    "print(f'Best parameters: {grid_search.best_params_}')\n"
   ]
  }
 ],
 "metadata": {
  "kernelspec": {
   "display_name": "my_env",
   "language": "python",
   "name": "python3"
  },
  "language_info": {
   "codemirror_mode": {
    "name": "ipython",
    "version": 3
   },
   "file_extension": ".py",
   "mimetype": "text/x-python",
   "name": "python",
   "nbconvert_exporter": "python",
   "pygments_lexer": "ipython3",
   "version": "3.12.0"
  }
 },
 "nbformat": 4,
 "nbformat_minor": 2
}
